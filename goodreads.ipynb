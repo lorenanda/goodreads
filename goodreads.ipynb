{
 "cells": [
  {
   "cell_type": "markdown",
   "metadata": {},
   "source": [
    "## This is a dataset of the books I've read between 2012-2018, exported from my goodreads account. Let's explore my reading preferences and habits!"
   ]
  },
  {
   "cell_type": "code",
   "execution_count": 2,
   "metadata": {},
   "outputs": [],
   "source": [
    "import pandas as pd\n",
    "import numpy as np\n",
    "import matplotlib.pyplot as plt\n",
    "%matplotlib inline\n",
    "import statistics"
   ]
  },
  {
   "cell_type": "code",
   "execution_count": 3,
   "metadata": {},
   "outputs": [
    {
     "data": {
      "text/html": [
       "<div>\n",
       "<style scoped>\n",
       "    .dataframe tbody tr th:only-of-type {\n",
       "        vertical-align: middle;\n",
       "    }\n",
       "\n",
       "    .dataframe tbody tr th {\n",
       "        vertical-align: top;\n",
       "    }\n",
       "\n",
       "    .dataframe thead th {\n",
       "        text-align: right;\n",
       "    }\n",
       "</style>\n",
       "<table border=\"1\" class=\"dataframe\">\n",
       "  <thead>\n",
       "    <tr style=\"text-align: right;\">\n",
       "      <th></th>\n",
       "      <th>Title</th>\n",
       "      <th>Author</th>\n",
       "      <th>Author Country</th>\n",
       "      <th>Read Language</th>\n",
       "      <th>My Rating</th>\n",
       "      <th>Average Rating</th>\n",
       "      <th>Number of Pages</th>\n",
       "      <th>Original Publication Year</th>\n",
       "      <th>Date Added</th>\n",
       "      <th>Format</th>\n",
       "    </tr>\n",
       "  </thead>\n",
       "  <tbody>\n",
       "    <tr>\n",
       "      <th>0</th>\n",
       "      <td>Noaptea de Sinziene vol. 2</td>\n",
       "      <td>Mircea Eliade</td>\n",
       "      <td>Romania</td>\n",
       "      <td>Romanian</td>\n",
       "      <td>4</td>\n",
       "      <td>4.41</td>\n",
       "      <td>303</td>\n",
       "      <td>1955</td>\n",
       "      <td>2012-09-17</td>\n",
       "      <td>paperback</td>\n",
       "    </tr>\n",
       "    <tr>\n",
       "      <th>1</th>\n",
       "      <td>The Adventures of Tom Sawyer</td>\n",
       "      <td>Mark Twain</td>\n",
       "      <td>USA</td>\n",
       "      <td>Romanian</td>\n",
       "      <td>3</td>\n",
       "      <td>3.90</td>\n",
       "      <td>244</td>\n",
       "      <td>1876</td>\n",
       "      <td>2012-09-17</td>\n",
       "      <td>paperback</td>\n",
       "    </tr>\n",
       "    <tr>\n",
       "      <th>2</th>\n",
       "      <td>The Hobbit</td>\n",
       "      <td>J.R.R. Tolkien</td>\n",
       "      <td>United Kingdom</td>\n",
       "      <td>English</td>\n",
       "      <td>4</td>\n",
       "      <td>4.26</td>\n",
       "      <td>366</td>\n",
       "      <td>1937</td>\n",
       "      <td>2012-09-17</td>\n",
       "      <td>paperback</td>\n",
       "    </tr>\n",
       "    <tr>\n",
       "      <th>3</th>\n",
       "      <td>The Importance of Being Earnest</td>\n",
       "      <td>Oscar Wilde</td>\n",
       "      <td>Ireland</td>\n",
       "      <td>English</td>\n",
       "      <td>3</td>\n",
       "      <td>4.17</td>\n",
       "      <td>76</td>\n",
       "      <td>1895</td>\n",
       "      <td>2012-09-17</td>\n",
       "      <td>paperback</td>\n",
       "    </tr>\n",
       "    <tr>\n",
       "      <th>4</th>\n",
       "      <td>The Five People You Meet in Heaven</td>\n",
       "      <td>Mitch Albom</td>\n",
       "      <td>USA</td>\n",
       "      <td>Romanian</td>\n",
       "      <td>3</td>\n",
       "      <td>3.91</td>\n",
       "      <td>196</td>\n",
       "      <td>2000</td>\n",
       "      <td>2012-09-17</td>\n",
       "      <td>paperback</td>\n",
       "    </tr>\n",
       "  </tbody>\n",
       "</table>\n",
       "</div>"
      ],
      "text/plain": [
       "                                Title          Author  Author Country  \\\n",
       "0          Noaptea de Sinziene vol. 2   Mircea Eliade         Romania   \n",
       "1        The Adventures of Tom Sawyer      Mark Twain             USA   \n",
       "2                          The Hobbit  J.R.R. Tolkien  United Kingdom   \n",
       "3     The Importance of Being Earnest     Oscar Wilde         Ireland   \n",
       "4  The Five People You Meet in Heaven     Mitch Albom             USA   \n",
       "\n",
       "  Read Language  My Rating  Average Rating  Number of Pages  \\\n",
       "0      Romanian          4            4.41              303   \n",
       "1      Romanian          3            3.90              244   \n",
       "2       English          4            4.26              366   \n",
       "3       English          3            4.17               76   \n",
       "4      Romanian          3            3.91              196   \n",
       "\n",
       "   Original Publication Year Date Added     Format  \n",
       "0                       1955 2012-09-17  paperback  \n",
       "1                       1876 2012-09-17  paperback  \n",
       "2                       1937 2012-09-17  paperback  \n",
       "3                       1895 2012-09-17  paperback  \n",
       "4                       2000 2012-09-17  paperback  "
      ]
     },
     "execution_count": 3,
     "metadata": {},
     "output_type": "execute_result"
    }
   ],
   "source": [
    "gr = pd.read_excel('goodreads_library_read.xlsx')\n",
    "gr.head()"
   ]
  },
  {
   "cell_type": "markdown",
   "metadata": {},
   "source": [
    "### Data cleaning"
   ]
  },
  {
   "cell_type": "code",
   "execution_count": 4,
   "metadata": {},
   "outputs": [
    {
     "data": {
      "text/plain": [
       "(406, 10)"
      ]
     },
     "execution_count": 4,
     "metadata": {},
     "output_type": "execute_result"
    }
   ],
   "source": [
    "gr.shape"
   ]
  },
  {
   "cell_type": "code",
   "execution_count": 5,
   "metadata": {},
   "outputs": [
    {
     "name": "stdout",
     "output_type": "stream",
     "text": [
      "<class 'pandas.core.frame.DataFrame'>\n",
      "RangeIndex: 406 entries, 0 to 405\n",
      "Data columns (total 10 columns):\n",
      "Title                        406 non-null object\n",
      "Author                       406 non-null object\n",
      "Author Country               406 non-null object\n",
      "Read Language                406 non-null object\n",
      "My Rating                    406 non-null int64\n",
      "Average Rating               406 non-null float64\n",
      "Number of Pages              406 non-null int64\n",
      "Original Publication Year    406 non-null int64\n",
      "Date Added                   406 non-null datetime64[ns]\n",
      "Format                       406 non-null object\n",
      "dtypes: datetime64[ns](1), float64(1), int64(3), object(5)\n",
      "memory usage: 31.8+ KB\n"
     ]
    }
   ],
   "source": [
    "gr.info()"
   ]
  },
  {
   "cell_type": "code",
   "execution_count": 6,
   "metadata": {},
   "outputs": [
    {
     "data": {
      "text/plain": [
       "Title                        0\n",
       "Author                       0\n",
       "Author Country               0\n",
       "Read Language                0\n",
       "My Rating                    0\n",
       "Average Rating               0\n",
       "Number of Pages              0\n",
       "Original Publication Year    0\n",
       "Date Added                   0\n",
       "Format                       0\n",
       "dtype: int64"
      ]
     },
     "execution_count": 6,
     "metadata": {},
     "output_type": "execute_result"
    }
   ],
   "source": [
    "# Check if there are missing values\n",
    "\n",
    "pd.isnull(gr).sum() "
   ]
  },
  {
   "cell_type": "code",
   "execution_count": 7,
   "metadata": {},
   "outputs": [
    {
     "data": {
      "text/html": [
       "<div>\n",
       "<style scoped>\n",
       "    .dataframe tbody tr th:only-of-type {\n",
       "        vertical-align: middle;\n",
       "    }\n",
       "\n",
       "    .dataframe tbody tr th {\n",
       "        vertical-align: top;\n",
       "    }\n",
       "\n",
       "    .dataframe thead th {\n",
       "        text-align: right;\n",
       "    }\n",
       "</style>\n",
       "<table border=\"1\" class=\"dataframe\">\n",
       "  <thead>\n",
       "    <tr style=\"text-align: right;\">\n",
       "      <th></th>\n",
       "      <th>Title</th>\n",
       "      <th>Author</th>\n",
       "      <th>Author Country</th>\n",
       "      <th>Read Language</th>\n",
       "      <th>My Rating</th>\n",
       "      <th>Average Rating</th>\n",
       "      <th>Number of Pages</th>\n",
       "      <th>Original Publication Year</th>\n",
       "      <th>Date Added</th>\n",
       "      <th>Format</th>\n",
       "    </tr>\n",
       "  </thead>\n",
       "  <tbody>\n",
       "    <tr>\n",
       "      <th>0</th>\n",
       "      <td>Noaptea de Sinziene vol. 2</td>\n",
       "      <td>Mircea Eliade</td>\n",
       "      <td>Romania</td>\n",
       "      <td>Romanian</td>\n",
       "      <td>4</td>\n",
       "      <td>4.41</td>\n",
       "      <td>303</td>\n",
       "      <td>1955</td>\n",
       "      <td>2012-09-17</td>\n",
       "      <td>paperback</td>\n",
       "    </tr>\n",
       "    <tr>\n",
       "      <th>1</th>\n",
       "      <td>The Adventures of Tom Sawyer</td>\n",
       "      <td>Mark Twain</td>\n",
       "      <td>USA</td>\n",
       "      <td>Romanian</td>\n",
       "      <td>3</td>\n",
       "      <td>3.90</td>\n",
       "      <td>244</td>\n",
       "      <td>1876</td>\n",
       "      <td>2012-09-17</td>\n",
       "      <td>paperback</td>\n",
       "    </tr>\n",
       "    <tr>\n",
       "      <th>2</th>\n",
       "      <td>The Hobbit</td>\n",
       "      <td>J.R.R. Tolkien</td>\n",
       "      <td>United Kingdom</td>\n",
       "      <td>English</td>\n",
       "      <td>4</td>\n",
       "      <td>4.26</td>\n",
       "      <td>366</td>\n",
       "      <td>1937</td>\n",
       "      <td>2012-09-17</td>\n",
       "      <td>paperback</td>\n",
       "    </tr>\n",
       "    <tr>\n",
       "      <th>3</th>\n",
       "      <td>The Importance of Being Earnest</td>\n",
       "      <td>Oscar Wilde</td>\n",
       "      <td>Ireland</td>\n",
       "      <td>English</td>\n",
       "      <td>3</td>\n",
       "      <td>4.17</td>\n",
       "      <td>76</td>\n",
       "      <td>1895</td>\n",
       "      <td>2012-09-17</td>\n",
       "      <td>paperback</td>\n",
       "    </tr>\n",
       "    <tr>\n",
       "      <th>4</th>\n",
       "      <td>The Five People You Meet in Heaven</td>\n",
       "      <td>Mitch Albom</td>\n",
       "      <td>USA</td>\n",
       "      <td>Romanian</td>\n",
       "      <td>3</td>\n",
       "      <td>3.91</td>\n",
       "      <td>196</td>\n",
       "      <td>2000</td>\n",
       "      <td>2012-09-17</td>\n",
       "      <td>paperback</td>\n",
       "    </tr>\n",
       "  </tbody>\n",
       "</table>\n",
       "</div>"
      ],
      "text/plain": [
       "                                Title          Author  Author Country  \\\n",
       "0          Noaptea de Sinziene vol. 2   Mircea Eliade         Romania   \n",
       "1        The Adventures of Tom Sawyer      Mark Twain             USA   \n",
       "2                          The Hobbit  J.R.R. Tolkien  United Kingdom   \n",
       "3     The Importance of Being Earnest     Oscar Wilde         Ireland   \n",
       "4  The Five People You Meet in Heaven     Mitch Albom             USA   \n",
       "\n",
       "  Read Language  My Rating  Average Rating  Number of Pages  \\\n",
       "0      Romanian          4            4.41              303   \n",
       "1      Romanian          3            3.90              244   \n",
       "2       English          4            4.26              366   \n",
       "3       English          3            4.17               76   \n",
       "4      Romanian          3            3.91              196   \n",
       "\n",
       "   Original Publication Year Date Added     Format  \n",
       "0                       1955 2012-09-17  paperback  \n",
       "1                       1876 2012-09-17  paperback  \n",
       "2                       1937 2012-09-17  paperback  \n",
       "3                       1895 2012-09-17  paperback  \n",
       "4                       2000 2012-09-17  paperback  "
      ]
     },
     "execution_count": 7,
     "metadata": {},
     "output_type": "execute_result"
    }
   ],
   "source": [
    "# set the date as index\n",
    "\n",
    "from datetime import datetime\n",
    "gr['Date Added'] = pd.to_datetime(gr['Date Added'])\n",
    "gr.head()"
   ]
  },
  {
   "cell_type": "code",
   "execution_count": 8,
   "metadata": {},
   "outputs": [
    {
     "data": {
      "text/html": [
       "<div>\n",
       "<style scoped>\n",
       "    .dataframe tbody tr th:only-of-type {\n",
       "        vertical-align: middle;\n",
       "    }\n",
       "\n",
       "    .dataframe tbody tr th {\n",
       "        vertical-align: top;\n",
       "    }\n",
       "\n",
       "    .dataframe thead th {\n",
       "        text-align: right;\n",
       "    }\n",
       "</style>\n",
       "<table border=\"1\" class=\"dataframe\">\n",
       "  <thead>\n",
       "    <tr style=\"text-align: right;\">\n",
       "      <th></th>\n",
       "      <th>Title</th>\n",
       "      <th>Author</th>\n",
       "      <th>Author Country</th>\n",
       "      <th>Read Language</th>\n",
       "      <th>My Rating</th>\n",
       "      <th>Average Rating</th>\n",
       "      <th>Number of Pages</th>\n",
       "      <th>Original Publication Year</th>\n",
       "      <th>Format</th>\n",
       "    </tr>\n",
       "    <tr>\n",
       "      <th>Date Added</th>\n",
       "      <th></th>\n",
       "      <th></th>\n",
       "      <th></th>\n",
       "      <th></th>\n",
       "      <th></th>\n",
       "      <th></th>\n",
       "      <th></th>\n",
       "      <th></th>\n",
       "      <th></th>\n",
       "    </tr>\n",
       "  </thead>\n",
       "  <tbody>\n",
       "    <tr>\n",
       "      <th>2012-09-17</th>\n",
       "      <td>Noaptea de Sinziene vol. 2</td>\n",
       "      <td>Mircea Eliade</td>\n",
       "      <td>Romania</td>\n",
       "      <td>Romanian</td>\n",
       "      <td>4</td>\n",
       "      <td>4.41</td>\n",
       "      <td>303</td>\n",
       "      <td>1955</td>\n",
       "      <td>paperback</td>\n",
       "    </tr>\n",
       "    <tr>\n",
       "      <th>2012-09-17</th>\n",
       "      <td>The Adventures of Tom Sawyer</td>\n",
       "      <td>Mark Twain</td>\n",
       "      <td>USA</td>\n",
       "      <td>Romanian</td>\n",
       "      <td>3</td>\n",
       "      <td>3.90</td>\n",
       "      <td>244</td>\n",
       "      <td>1876</td>\n",
       "      <td>paperback</td>\n",
       "    </tr>\n",
       "    <tr>\n",
       "      <th>2012-09-17</th>\n",
       "      <td>The Hobbit</td>\n",
       "      <td>J.R.R. Tolkien</td>\n",
       "      <td>United Kingdom</td>\n",
       "      <td>English</td>\n",
       "      <td>4</td>\n",
       "      <td>4.26</td>\n",
       "      <td>366</td>\n",
       "      <td>1937</td>\n",
       "      <td>paperback</td>\n",
       "    </tr>\n",
       "    <tr>\n",
       "      <th>2012-09-17</th>\n",
       "      <td>The Importance of Being Earnest</td>\n",
       "      <td>Oscar Wilde</td>\n",
       "      <td>Ireland</td>\n",
       "      <td>English</td>\n",
       "      <td>3</td>\n",
       "      <td>4.17</td>\n",
       "      <td>76</td>\n",
       "      <td>1895</td>\n",
       "      <td>paperback</td>\n",
       "    </tr>\n",
       "    <tr>\n",
       "      <th>2012-09-17</th>\n",
       "      <td>The Five People You Meet in Heaven</td>\n",
       "      <td>Mitch Albom</td>\n",
       "      <td>USA</td>\n",
       "      <td>Romanian</td>\n",
       "      <td>3</td>\n",
       "      <td>3.91</td>\n",
       "      <td>196</td>\n",
       "      <td>2000</td>\n",
       "      <td>paperback</td>\n",
       "    </tr>\n",
       "  </tbody>\n",
       "</table>\n",
       "</div>"
      ],
      "text/plain": [
       "                                         Title          Author  \\\n",
       "Date Added                                                       \n",
       "2012-09-17          Noaptea de Sinziene vol. 2   Mircea Eliade   \n",
       "2012-09-17        The Adventures of Tom Sawyer      Mark Twain   \n",
       "2012-09-17                          The Hobbit  J.R.R. Tolkien   \n",
       "2012-09-17     The Importance of Being Earnest     Oscar Wilde   \n",
       "2012-09-17  The Five People You Meet in Heaven     Mitch Albom   \n",
       "\n",
       "            Author Country Read Language  My Rating  Average Rating  \\\n",
       "Date Added                                                            \n",
       "2012-09-17         Romania      Romanian          4            4.41   \n",
       "2012-09-17             USA      Romanian          3            3.90   \n",
       "2012-09-17  United Kingdom       English          4            4.26   \n",
       "2012-09-17         Ireland       English          3            4.17   \n",
       "2012-09-17             USA      Romanian          3            3.91   \n",
       "\n",
       "            Number of Pages  Original Publication Year     Format  \n",
       "Date Added                                                         \n",
       "2012-09-17              303                       1955  paperback  \n",
       "2012-09-17              244                       1876  paperback  \n",
       "2012-09-17              366                       1937  paperback  \n",
       "2012-09-17               76                       1895  paperback  \n",
       "2012-09-17              196                       2000  paperback  "
      ]
     },
     "execution_count": 8,
     "metadata": {},
     "output_type": "execute_result"
    }
   ],
   "source": [
    "gr.index = gr['Date Added']\n",
    "del gr['Date Added']\n",
    "gr.head()"
   ]
  },
  {
   "cell_type": "markdown",
   "metadata": {},
   "source": [
    "### Exploratory data analysis"
   ]
  },
  {
   "cell_type": "code",
   "execution_count": 9,
   "metadata": {},
   "outputs": [
    {
     "data": {
      "text/html": [
       "<div>\n",
       "<style scoped>\n",
       "    .dataframe tbody tr th:only-of-type {\n",
       "        vertical-align: middle;\n",
       "    }\n",
       "\n",
       "    .dataframe tbody tr th {\n",
       "        vertical-align: top;\n",
       "    }\n",
       "\n",
       "    .dataframe thead th {\n",
       "        text-align: right;\n",
       "    }\n",
       "</style>\n",
       "<table border=\"1\" class=\"dataframe\">\n",
       "  <thead>\n",
       "    <tr style=\"text-align: right;\">\n",
       "      <th></th>\n",
       "      <th>My Rating</th>\n",
       "      <th>Average Rating</th>\n",
       "      <th>Number of Pages</th>\n",
       "      <th>Original Publication Year</th>\n",
       "    </tr>\n",
       "  </thead>\n",
       "  <tbody>\n",
       "    <tr>\n",
       "      <th>count</th>\n",
       "      <td>406.000000</td>\n",
       "      <td>406.000000</td>\n",
       "      <td>406.000000</td>\n",
       "      <td>406.000000</td>\n",
       "    </tr>\n",
       "    <tr>\n",
       "      <th>mean</th>\n",
       "      <td>3.876847</td>\n",
       "      <td>3.911281</td>\n",
       "      <td>301.098522</td>\n",
       "      <td>1902.738916</td>\n",
       "    </tr>\n",
       "    <tr>\n",
       "      <th>std</th>\n",
       "      <td>0.981108</td>\n",
       "      <td>0.314668</td>\n",
       "      <td>180.902430</td>\n",
       "      <td>346.616949</td>\n",
       "    </tr>\n",
       "    <tr>\n",
       "      <th>min</th>\n",
       "      <td>1.000000</td>\n",
       "      <td>2.600000</td>\n",
       "      <td>3.000000</td>\n",
       "      <td>-750.000000</td>\n",
       "    </tr>\n",
       "    <tr>\n",
       "      <th>25%</th>\n",
       "      <td>3.000000</td>\n",
       "      <td>3.740000</td>\n",
       "      <td>192.000000</td>\n",
       "      <td>1928.250000</td>\n",
       "    </tr>\n",
       "    <tr>\n",
       "      <th>50%</th>\n",
       "      <td>4.000000</td>\n",
       "      <td>3.930000</td>\n",
       "      <td>280.000000</td>\n",
       "      <td>1980.500000</td>\n",
       "    </tr>\n",
       "    <tr>\n",
       "      <th>75%</th>\n",
       "      <td>5.000000</td>\n",
       "      <td>4.120000</td>\n",
       "      <td>352.000000</td>\n",
       "      <td>2007.000000</td>\n",
       "    </tr>\n",
       "    <tr>\n",
       "      <th>max</th>\n",
       "      <td>5.000000</td>\n",
       "      <td>5.000000</td>\n",
       "      <td>1463.000000</td>\n",
       "      <td>2018.000000</td>\n",
       "    </tr>\n",
       "  </tbody>\n",
       "</table>\n",
       "</div>"
      ],
      "text/plain": [
       "        My Rating  Average Rating  Number of Pages  Original Publication Year\n",
       "count  406.000000      406.000000       406.000000                 406.000000\n",
       "mean     3.876847        3.911281       301.098522                1902.738916\n",
       "std      0.981108        0.314668       180.902430                 346.616949\n",
       "min      1.000000        2.600000         3.000000                -750.000000\n",
       "25%      3.000000        3.740000       192.000000                1928.250000\n",
       "50%      4.000000        3.930000       280.000000                1980.500000\n",
       "75%      5.000000        4.120000       352.000000                2007.000000\n",
       "max      5.000000        5.000000      1463.000000                2018.000000"
      ]
     },
     "execution_count": 9,
     "metadata": {},
     "output_type": "execute_result"
    }
   ],
   "source": [
    "gr.describe()"
   ]
  },
  {
   "cell_type": "markdown",
   "metadata": {},
   "source": [
    "#### The average goodreads rating is very close to my average rating (3.91 and 3.87). The highest rating both by me and goodreads is a perfect 5, whereas the lowest rating is 2.6 on goodreads and 1 by me (we'll find out later which was that terrible book).\n",
    "#### I've read books published between 750 BCE and 2018 CE. A long literary time travel..."
   ]
  },
  {
   "cell_type": "code",
   "execution_count": 10,
   "metadata": {},
   "outputs": [
    {
     "data": {
      "text/plain": [
       "My Rating                       4.00\n",
       "Average Rating                  3.93\n",
       "Number of Pages               280.00\n",
       "Original Publication Year    1980.50\n",
       "dtype: float64"
      ]
     },
     "execution_count": 10,
     "metadata": {},
     "output_type": "execute_result"
    }
   ],
   "source": [
    "gr.median()"
   ]
  },
  {
   "cell_type": "code",
   "execution_count": 28,
   "metadata": {},
   "outputs": [
    {
     "data": {
      "text/plain": [
       "My Rating                         0.962574\n",
       "Average Rating                    0.099016\n",
       "Number of Pages               32725.689035\n",
       "Original Publication Year    120143.309445\n",
       "dtype: float64"
      ]
     },
     "execution_count": 28,
     "metadata": {},
     "output_type": "execute_result"
    }
   ],
   "source": [
    "gr.var()"
   ]
  },
  {
   "cell_type": "code",
   "execution_count": 19,
   "metadata": {},
   "outputs": [
    {
     "data": {
      "text/plain": [
       "My Rating                      0.981108\n",
       "Average Rating                 0.314668\n",
       "Number of Pages              180.902430\n",
       "Original Publication Year    346.616949\n",
       "dtype: float64"
      ]
     },
     "execution_count": 19,
     "metadata": {},
     "output_type": "execute_result"
    }
   ],
   "source": [
    "gr.std()"
   ]
  },
  {
   "cell_type": "code",
   "execution_count": 14,
   "metadata": {},
   "outputs": [
    {
     "name": "stdout",
     "output_type": "stream",
     "text": [
      "My most common rating is 4\n"
     ]
    }
   ],
   "source": [
    "print('My most common rating is {}'.format(statistics.mode(gr['My Rating'])))"
   ]
  },
  {
   "cell_type": "code",
   "execution_count": 15,
   "metadata": {},
   "outputs": [
    {
     "ename": "StatisticsError",
     "evalue": "no unique mode; found 4 equally common values",
     "output_type": "error",
     "traceback": [
      "\u001b[0;31m---------------------------------------------------------------------------\u001b[0m",
      "\u001b[0;31mStatisticsError\u001b[0m                           Traceback (most recent call last)",
      "\u001b[0;32m<ipython-input-15-d74530168387>\u001b[0m in \u001b[0;36m<module>\u001b[0;34m()\u001b[0m\n\u001b[0;32m----> 1\u001b[0;31m \u001b[0mprint\u001b[0m\u001b[0;34m(\u001b[0m\u001b[0;34m'The most common goodreads rating is {}'\u001b[0m\u001b[0;34m.\u001b[0m\u001b[0mformat\u001b[0m\u001b[0;34m(\u001b[0m\u001b[0mstatistics\u001b[0m\u001b[0;34m.\u001b[0m\u001b[0mmode\u001b[0m\u001b[0;34m(\u001b[0m\u001b[0mgr\u001b[0m\u001b[0;34m[\u001b[0m\u001b[0;34m'Average Rating'\u001b[0m\u001b[0;34m]\u001b[0m\u001b[0;34m)\u001b[0m\u001b[0;34m)\u001b[0m\u001b[0;34m)\u001b[0m\u001b[0;34m\u001b[0m\u001b[0m\n\u001b[0m",
      "\u001b[0;32m~/anaconda3/lib/python3.6/statistics.py\u001b[0m in \u001b[0;36mmode\u001b[0;34m(data)\u001b[0m\n\u001b[1;32m    505\u001b[0m     \u001b[0;32melif\u001b[0m \u001b[0mtable\u001b[0m\u001b[0;34m:\u001b[0m\u001b[0;34m\u001b[0m\u001b[0m\n\u001b[1;32m    506\u001b[0m         raise StatisticsError(\n\u001b[0;32m--> 507\u001b[0;31m                 \u001b[0;34m'no unique mode; found %d equally common values'\u001b[0m \u001b[0;34m%\u001b[0m \u001b[0mlen\u001b[0m\u001b[0;34m(\u001b[0m\u001b[0mtable\u001b[0m\u001b[0;34m)\u001b[0m\u001b[0;34m\u001b[0m\u001b[0m\n\u001b[0m\u001b[1;32m    508\u001b[0m                 )\n\u001b[1;32m    509\u001b[0m     \u001b[0;32melse\u001b[0m\u001b[0;34m:\u001b[0m\u001b[0;34m\u001b[0m\u001b[0m\n",
      "\u001b[0;31mStatisticsError\u001b[0m: no unique mode; found 4 equally common values"
     ]
    }
   ],
   "source": [
    "print('The most common goodreads rating is {}'.format(statistics.mode(gr['Average Rating'])))"
   ]
  },
  {
   "cell_type": "markdown",
   "metadata": {},
   "source": [
    "#### The distribution of my book ratings is unimodal (my most common rating is 4), but the distribution of the goodreads ratings has 4 modes."
   ]
  },
  {
   "cell_type": "code",
   "execution_count": 20,
   "metadata": {},
   "outputs": [
    {
     "data": {
      "text/plain": [
       "<matplotlib.axes._subplots.AxesSubplot at 0x7f500e891b00>"
      ]
     },
     "execution_count": 20,
     "metadata": {},
     "output_type": "execute_result"
    },
    {
     "data": {
      "image/png": "[encoded data removed]",
      "text/plain": [
       "<Figure size 432x288 with 1 Axes>"
      ]
     },
     "metadata": {},
     "output_type": "display_data"
    }
   ],
   "source": [
    "gr['My Rating'].plot.hist()"
   ]
  },
  {
   "cell_type": "code",
   "execution_count": 21,
   "metadata": {},
   "outputs": [
    {
     "data": {
      "text/plain": [
       "<matplotlib.axes._subplots.AxesSubplot at 0x7f500b6b1780>"
      ]
     },
     "execution_count": 21,
     "metadata": {},
     "output_type": "execute_result"
    },
    {
     "data": {
      "image/png": "[encoded data removed]",
      "text/plain": [
       "<Figure size 432x288 with 1 Axes>"
      ]
     },
     "metadata": {},
     "output_type": "display_data"
    }
   ],
   "source": [
    "gr['Average Rating'].plot.hist()"
   ]
  },
  {
   "cell_type": "markdown",
   "metadata": {},
   "source": [
    "##### Clearly, the average goodreads rating is higher than my rating, but it's a difference of only about 0.6 points, goodreads tending towards 4, and me towards 3."
   ]
  },
  {
   "cell_type": "markdown",
   "metadata": {},
   "source": [
    "#### Let's see the top-rated books by me and goodreads"
   ]
  },
  {
   "cell_type": "code",
   "execution_count": 22,
   "metadata": {},
   "outputs": [
    {
     "data": {
      "text/html": [
       "<div>\n",
       "<style scoped>\n",
       "    .dataframe tbody tr th:only-of-type {\n",
       "        vertical-align: middle;\n",
       "    }\n",
       "\n",
       "    .dataframe tbody tr th {\n",
       "        vertical-align: top;\n",
       "    }\n",
       "\n",
       "    .dataframe thead th {\n",
       "        text-align: right;\n",
       "    }\n",
       "</style>\n",
       "<table border=\"1\" class=\"dataframe\">\n",
       "  <thead>\n",
       "    <tr style=\"text-align: right;\">\n",
       "      <th></th>\n",
       "      <th>Title</th>\n",
       "      <th>Author</th>\n",
       "      <th>Author Country</th>\n",
       "      <th>My Rating</th>\n",
       "      <th>Average Rating</th>\n",
       "    </tr>\n",
       "    <tr>\n",
       "      <th>Date Added</th>\n",
       "      <th></th>\n",
       "      <th></th>\n",
       "      <th></th>\n",
       "      <th></th>\n",
       "      <th></th>\n",
       "    </tr>\n",
       "  </thead>\n",
       "  <tbody>\n",
       "    <tr>\n",
       "      <th>2015-07-30</th>\n",
       "      <td>Putting Chronic Fatigue To Rest: Treating Chro...</td>\n",
       "      <td>Kumuda Reddy</td>\n",
       "      <td>USA</td>\n",
       "      <td>5</td>\n",
       "      <td>5.00</td>\n",
       "    </tr>\n",
       "    <tr>\n",
       "      <th>2015-08-08</th>\n",
       "      <td>A Practical Guide To Know Yourself:  Conversat...</td>\n",
       "      <td>Ramana Maharshi</td>\n",
       "      <td>India</td>\n",
       "      <td>5</td>\n",
       "      <td>4.50</td>\n",
       "    </tr>\n",
       "    <tr>\n",
       "      <th>2018-02-16</th>\n",
       "      <td>The Atlas of Beauty: Women of the World in 500...</td>\n",
       "      <td>Mihaela Noroc</td>\n",
       "      <td>Romania</td>\n",
       "      <td>5</td>\n",
       "      <td>4.65</td>\n",
       "    </tr>\n",
       "  </tbody>\n",
       "</table>\n",
       "</div>"
      ],
      "text/plain": [
       "                                                        Title  \\\n",
       "Date Added                                                      \n",
       "2015-07-30  Putting Chronic Fatigue To Rest: Treating Chro...   \n",
       "2015-08-08  A Practical Guide To Know Yourself:  Conversat...   \n",
       "2018-02-16  The Atlas of Beauty: Women of the World in 500...   \n",
       "\n",
       "                     Author Author Country  My Rating  Average Rating  \n",
       "Date Added                                                             \n",
       "2015-07-30     Kumuda Reddy            USA          5            5.00  \n",
       "2015-08-08  Ramana Maharshi          India          5            4.50  \n",
       "2018-02-16    Mihaela Noroc        Romania          5            4.65  "
      ]
     },
     "execution_count": 22,
     "metadata": {},
     "output_type": "execute_result"
    }
   ],
   "source": [
    "top_books = gr[(gr['My Rating']==5) & (gr['Average Rating']>=4.5)]\n",
    "top_books[['Title', 'Author', 'Author Country', 'My Rating','Average Rating']]"
   ]
  },
  {
   "cell_type": "markdown",
   "metadata": {},
   "source": [
    "##### It's worth noting that these books are non-fiction, more specifically about lifestyle: beauty/ portrait photograhy, meditation/ Indian philosophy, and personal health with ayurvedic remedies. I find this a quite surprising."
   ]
  },
  {
   "cell_type": "markdown",
   "metadata": {},
   "source": [
    "#### Now let's see the lowest-rated books by me and goodreads"
   ]
  },
  {
   "cell_type": "code",
   "execution_count": 23,
   "metadata": {},
   "outputs": [
    {
     "data": {
      "text/html": [
       "<div>\n",
       "<style scoped>\n",
       "    .dataframe tbody tr th:only-of-type {\n",
       "        vertical-align: middle;\n",
       "    }\n",
       "\n",
       "    .dataframe tbody tr th {\n",
       "        vertical-align: top;\n",
       "    }\n",
       "\n",
       "    .dataframe thead th {\n",
       "        text-align: right;\n",
       "    }\n",
       "</style>\n",
       "<table border=\"1\" class=\"dataframe\">\n",
       "  <thead>\n",
       "    <tr style=\"text-align: right;\">\n",
       "      <th></th>\n",
       "      <th>Title</th>\n",
       "      <th>Author</th>\n",
       "      <th>Author Country</th>\n",
       "      <th>My Rating</th>\n",
       "      <th>Average Rating</th>\n",
       "    </tr>\n",
       "    <tr>\n",
       "      <th>Date Added</th>\n",
       "      <th></th>\n",
       "      <th></th>\n",
       "      <th></th>\n",
       "      <th></th>\n",
       "      <th></th>\n",
       "    </tr>\n",
       "  </thead>\n",
       "  <tbody>\n",
       "    <tr>\n",
       "      <th>2012-09-17</th>\n",
       "      <td>Trois Jours chez ma mère</td>\n",
       "      <td>François Weyergans</td>\n",
       "      <td>France</td>\n",
       "      <td>2</td>\n",
       "      <td>2.69</td>\n",
       "    </tr>\n",
       "    <tr>\n",
       "      <th>2014-06-04</th>\n",
       "      <td>Actors Anonymous</td>\n",
       "      <td>James Franco</td>\n",
       "      <td>USA</td>\n",
       "      <td>1</td>\n",
       "      <td>2.60</td>\n",
       "    </tr>\n",
       "  </tbody>\n",
       "</table>\n",
       "</div>"
      ],
      "text/plain": [
       "                               Title              Author Author Country  \\\n",
       "Date Added                                                                \n",
       "2012-09-17  Trois Jours chez ma mère  François Weyergans         France   \n",
       "2014-06-04          Actors Anonymous        James Franco            USA   \n",
       "\n",
       "            My Rating  Average Rating  \n",
       "Date Added                             \n",
       "2012-09-17          2            2.69  \n",
       "2014-06-04          1            2.60  "
      ]
     },
     "execution_count": 23,
     "metadata": {},
     "output_type": "execute_result"
    }
   ],
   "source": [
    "low_books = gr[(gr['My Rating']<3) & (gr['Average Rating']<3)]\n",
    "low_books[['Title', 'Author', 'Author Country', 'My Rating','Average Rating']]"
   ]
  },
  {
   "cell_type": "markdown",
   "metadata": {},
   "source": [
    "#### Let's see where the authors of the books I've read come from"
   ]
  },
  {
   "cell_type": "code",
   "execution_count": 24,
   "metadata": {},
   "outputs": [
    {
     "data": {
      "text/plain": [
       "USA               121\n",
       "United Kingdom     65\n",
       "France             50\n",
       "Germany            35\n",
       "Romania            27\n",
       "Russia             14\n",
       "Ireland            10\n",
       "Greece             10\n",
       "India               9\n",
       "Japan               8\n",
       "Austria             6\n",
       "Italy               6\n",
       "Czech Republic      6\n",
       "Switzerland         5\n",
       "Colombia            4\n",
       "Spain               3\n",
       "Israel              3\n",
       "Australia           3\n",
       "Brazil              3\n",
       "Turkey              2\n",
       "Finland             1\n",
       "Afghanistan         1\n",
       "Portugal            1\n",
       "Egypt               1\n",
       "German              1\n",
       "Chile               1\n",
       "Malaysia            1\n",
       "Canada              1\n",
       "Nigeria             1\n",
       "Pakista             1\n",
       "Poland              1\n",
       "Bulgaria            1\n",
       "South Korea         1\n",
       "Mexico              1\n",
       "Sri Lanka           1\n",
       "Belgium             1\n",
       "Name: Author Country, dtype: int64"
      ]
     },
     "execution_count": 24,
     "metadata": {},
     "output_type": "execute_result"
    }
   ],
   "source": [
    "gr['Author Country'].value_counts()"
   ]
  },
  {
   "cell_type": "markdown",
   "metadata": {},
   "source": [
    "#### Let's see which author I've read most"
   ]
  },
  {
   "cell_type": "code",
   "execution_count": 25,
   "metadata": {},
   "outputs": [
    {
     "data": {
      "text/plain": [
       "Mircea Eliade                  7\n",
       "Friedrich Schiller             5\n",
       "Fyodor Dostoyevsky             5\n",
       "William Shakespeare            5\n",
       "Franz Kafka                    4\n",
       "Gabriel García Márquez         4\n",
       "Edgar Allan Poe                4\n",
       "Jean-Paul Sartre               4\n",
       "George Orwell                  4\n",
       "Kazuo Ishiguro                 4\n",
       "George Lakoff                  4\n",
       "Aldous Huxley                  3\n",
       "Albert Camus                   3\n",
       "Charles Dickens                3\n",
       "Oliver Sacks                   3\n",
       "Paulo Coelho                   3\n",
       "Steven Pinker                  3\n",
       "Amélie Nothomb                 3\n",
       "Henry James                    3\n",
       "Jules Verne                    3\n",
       "Friedrich Dürrenmatt           3\n",
       "James Joyce                    3\n",
       "Sophocles                      3\n",
       "Johann Wolfgang von Goethe     3\n",
       "Euripides                      2\n",
       "Michel Houellebecq             2\n",
       "Gotthold Ephraim Lessing       2\n",
       "Milan Kundera                  2\n",
       "Susan Sontag                   2\n",
       "Friedrich Nietzsche            2\n",
       "                              ..\n",
       "Ben Okri                       1\n",
       "Mario Puzo                     1\n",
       "Benoît Duteurtre               1\n",
       "Stefan Zweig                   1\n",
       "Ian McEwan                     1\n",
       "Viktor E. Frankl               1\n",
       "James Franco                   1\n",
       "Thomas Hardy                   1\n",
       "Charles Fernyhough             1\n",
       "Miguel Ruiz                    1\n",
       "Stéphane Hessel                1\n",
       "Michael Ondaatje               1\n",
       "Joseph Conrad                  1\n",
       "Nataly Kelly                   1\n",
       "William Faulkner               1\n",
       "Rainer Dietrich                1\n",
       "Aoibheann Sweeney              1\n",
       "Kurt Vonnegut                  1\n",
       "Raymond Queneau                1\n",
       "John  Williams                 1\n",
       "Anthony Burgess                1\n",
       "Bianca Bosker                  1\n",
       "Johanna Spyri                  1\n",
       "Alexandra David-Néel           1\n",
       "Peter Morgan                   1\n",
       "Kristine Barnett               1\n",
       "Virginia Woolf                 1\n",
       "Derek Bickerton                1\n",
       "Richard Bach                   1\n",
       "Mary Wollstonecraft Shelley    1\n",
       "Name: Author, Length: 303, dtype: int64"
      ]
     },
     "execution_count": 25,
     "metadata": {},
     "output_type": "execute_result"
    }
   ],
   "source": [
    "gr.Author.value_counts()"
   ]
  },
  {
   "cell_type": "markdown",
   "metadata": {},
   "source": [
    "#### and in what languages I read"
   ]
  },
  {
   "cell_type": "code",
   "execution_count": 26,
   "metadata": {},
   "outputs": [
    {
     "data": {
      "text/plain": [
       "English     229\n",
       "Romanian    103\n",
       "German       42\n",
       "French       27\n",
       "Spanish       5\n",
       "Name: Read Language, dtype: int64"
      ]
     },
     "execution_count": 26,
     "metadata": {},
     "output_type": "execute_result"
    }
   ],
   "source": [
    "gr['Read Language'].value_counts()"
   ]
  },
  {
   "cell_type": "markdown",
   "metadata": {},
   "source": [
    "#### the best-rated author"
   ]
  },
  {
   "cell_type": "code",
   "execution_count": null,
   "metadata": {},
   "outputs": [],
   "source": []
  },
  {
   "cell_type": "markdown",
   "metadata": {},
   "source": [
    "#### Let's look at the number of book pages"
   ]
  },
  {
   "cell_type": "code",
   "execution_count": 27,
   "metadata": {},
   "outputs": [
    {
     "data": {
      "text/plain": [
       "count     406.000000\n",
       "mean      301.098522\n",
       "std       180.902430\n",
       "min         3.000000\n",
       "25%       192.000000\n",
       "50%       280.000000\n",
       "75%       352.000000\n",
       "max      1463.000000\n",
       "Name: Number of Pages, dtype: float64"
      ]
     },
     "execution_count": 27,
     "metadata": {},
     "output_type": "execute_result"
    }
   ],
   "source": [
    "gr['Number of Pages'].describe()"
   ]
  },
  {
   "cell_type": "markdown",
   "metadata": {},
   "source": [
    "##### A book has on average 306 pages. The shorted book I've read has 3 pages, which is:"
   ]
  },
  {
   "cell_type": "code",
   "execution_count": 28,
   "metadata": {},
   "outputs": [
    {
     "data": {
      "text/html": [
       "<div>\n",
       "<style scoped>\n",
       "    .dataframe tbody tr th:only-of-type {\n",
       "        vertical-align: middle;\n",
       "    }\n",
       "\n",
       "    .dataframe tbody tr th {\n",
       "        vertical-align: top;\n",
       "    }\n",
       "\n",
       "    .dataframe thead th {\n",
       "        text-align: right;\n",
       "    }\n",
       "</style>\n",
       "<table border=\"1\" class=\"dataframe\">\n",
       "  <thead>\n",
       "    <tr style=\"text-align: right;\">\n",
       "      <th></th>\n",
       "      <th>Title</th>\n",
       "      <th>Author</th>\n",
       "      <th>Author Country</th>\n",
       "      <th>Read Language</th>\n",
       "      <th>My Rating</th>\n",
       "      <th>Average Rating</th>\n",
       "      <th>Number of Pages</th>\n",
       "      <th>Original Publication Year</th>\n",
       "      <th>Format</th>\n",
       "    </tr>\n",
       "    <tr>\n",
       "      <th>Date Added</th>\n",
       "      <th></th>\n",
       "      <th></th>\n",
       "      <th></th>\n",
       "      <th></th>\n",
       "      <th></th>\n",
       "      <th></th>\n",
       "      <th></th>\n",
       "      <th></th>\n",
       "      <th></th>\n",
       "    </tr>\n",
       "  </thead>\n",
       "  <tbody>\n",
       "    <tr>\n",
       "      <th>2015-03-03</th>\n",
       "      <td>The Man of the Crowd</td>\n",
       "      <td>Edgar Allan Poe</td>\n",
       "      <td>USA</td>\n",
       "      <td>English</td>\n",
       "      <td>4</td>\n",
       "      <td>3.45</td>\n",
       "      <td>3</td>\n",
       "      <td>2009</td>\n",
       "      <td>paperback</td>\n",
       "    </tr>\n",
       "  </tbody>\n",
       "</table>\n",
       "</div>"
      ],
      "text/plain": [
       "                           Title           Author Author Country  \\\n",
       "Date Added                                                         \n",
       "2015-03-03  The Man of the Crowd  Edgar Allan Poe            USA   \n",
       "\n",
       "           Read Language  My Rating  Average Rating  Number of Pages  \\\n",
       "Date Added                                                             \n",
       "2015-03-03       English          4            3.45                3   \n",
       "\n",
       "            Original Publication Year     Format  \n",
       "Date Added                                        \n",
       "2015-03-03                       2009  paperback  "
      ]
     },
     "execution_count": 28,
     "metadata": {},
     "output_type": "execute_result"
    }
   ],
   "source": [
    "gr[gr['Number of Pages']==3]"
   ]
  },
  {
   "cell_type": "markdown",
   "metadata": {},
   "source": [
    "##### and the longest book I've read has 1463 pages, which is:"
   ]
  },
  {
   "cell_type": "code",
   "execution_count": 29,
   "metadata": {},
   "outputs": [
    {
     "data": {
      "text/html": [
       "<div>\n",
       "<style scoped>\n",
       "    .dataframe tbody tr th:only-of-type {\n",
       "        vertical-align: middle;\n",
       "    }\n",
       "\n",
       "    .dataframe tbody tr th {\n",
       "        vertical-align: top;\n",
       "    }\n",
       "\n",
       "    .dataframe thead th {\n",
       "        text-align: right;\n",
       "    }\n",
       "</style>\n",
       "<table border=\"1\" class=\"dataframe\">\n",
       "  <thead>\n",
       "    <tr style=\"text-align: right;\">\n",
       "      <th></th>\n",
       "      <th>Title</th>\n",
       "      <th>Author</th>\n",
       "      <th>Author Country</th>\n",
       "      <th>Read Language</th>\n",
       "      <th>My Rating</th>\n",
       "      <th>Average Rating</th>\n",
       "      <th>Number of Pages</th>\n",
       "      <th>Original Publication Year</th>\n",
       "      <th>Format</th>\n",
       "    </tr>\n",
       "    <tr>\n",
       "      <th>Date Added</th>\n",
       "      <th></th>\n",
       "      <th></th>\n",
       "      <th></th>\n",
       "      <th></th>\n",
       "      <th></th>\n",
       "      <th></th>\n",
       "      <th></th>\n",
       "      <th></th>\n",
       "      <th></th>\n",
       "    </tr>\n",
       "  </thead>\n",
       "  <tbody>\n",
       "    <tr>\n",
       "      <th>2012-09-17</th>\n",
       "      <td>Les Misérables</td>\n",
       "      <td>Victor Hugo</td>\n",
       "      <td>France</td>\n",
       "      <td>French</td>\n",
       "      <td>4</td>\n",
       "      <td>4.16</td>\n",
       "      <td>1463</td>\n",
       "      <td>1862</td>\n",
       "      <td>paperback</td>\n",
       "    </tr>\n",
       "  </tbody>\n",
       "</table>\n",
       "</div>"
      ],
      "text/plain": [
       "                     Title       Author Author Country Read Language  \\\n",
       "Date Added                                                             \n",
       "2012-09-17  Les Misérables  Victor Hugo         France        French   \n",
       "\n",
       "            My Rating  Average Rating  Number of Pages  \\\n",
       "Date Added                                               \n",
       "2012-09-17          4            4.16             1463   \n",
       "\n",
       "            Original Publication Year     Format  \n",
       "Date Added                                        \n",
       "2012-09-17                       1862  paperback  "
      ]
     },
     "execution_count": 29,
     "metadata": {},
     "output_type": "execute_result"
    }
   ],
   "source": [
    "gr[gr['Number of Pages']==1463]"
   ]
  },
  {
   "cell_type": "markdown",
   "metadata": {},
   "source": [
    "#### I usually don't re-read books, but some I really wanted or had to:"
   ]
  },
  {
   "cell_type": "code",
   "execution_count": 30,
   "metadata": {},
   "outputs": [
    {
     "data": {
      "text/html": [
       "<div>\n",
       "<style scoped>\n",
       "    .dataframe tbody tr th:only-of-type {\n",
       "        vertical-align: middle;\n",
       "    }\n",
       "\n",
       "    .dataframe tbody tr th {\n",
       "        vertical-align: top;\n",
       "    }\n",
       "\n",
       "    .dataframe thead th {\n",
       "        text-align: right;\n",
       "    }\n",
       "</style>\n",
       "<table border=\"1\" class=\"dataframe\">\n",
       "  <thead>\n",
       "    <tr style=\"text-align: right;\">\n",
       "      <th></th>\n",
       "      <th>Title</th>\n",
       "      <th>Author</th>\n",
       "      <th>Author Country</th>\n",
       "      <th>Read Language</th>\n",
       "      <th>My Rating</th>\n",
       "      <th>Average Rating</th>\n",
       "      <th>Number of Pages</th>\n",
       "      <th>Original Publication Year</th>\n",
       "      <th>Format</th>\n",
       "    </tr>\n",
       "    <tr>\n",
       "      <th>Date Added</th>\n",
       "      <th></th>\n",
       "      <th></th>\n",
       "      <th></th>\n",
       "      <th></th>\n",
       "      <th></th>\n",
       "      <th></th>\n",
       "      <th></th>\n",
       "      <th></th>\n",
       "      <th></th>\n",
       "    </tr>\n",
       "  </thead>\n",
       "  <tbody>\n",
       "    <tr>\n",
       "      <th>2012-09-17</th>\n",
       "      <td>Faust: Der Tragödie erster Teil</td>\n",
       "      <td>Johann Wolfgang von Goethe</td>\n",
       "      <td>Germany</td>\n",
       "      <td>German</td>\n",
       "      <td>5</td>\n",
       "      <td>3.98</td>\n",
       "      <td>135</td>\n",
       "      <td>1986</td>\n",
       "      <td>paperback</td>\n",
       "    </tr>\n",
       "    <tr>\n",
       "      <th>2012-09-17</th>\n",
       "      <td>Dracula</td>\n",
       "      <td>Bram Stoker</td>\n",
       "      <td>Ireland</td>\n",
       "      <td>Romanian</td>\n",
       "      <td>3</td>\n",
       "      <td>3.98</td>\n",
       "      <td>488</td>\n",
       "      <td>1897</td>\n",
       "      <td>paperback</td>\n",
       "    </tr>\n",
       "    <tr>\n",
       "      <th>2012-09-17</th>\n",
       "      <td>A Midsummer Night's Dream</td>\n",
       "      <td>William Shakespeare</td>\n",
       "      <td>United Kingdom</td>\n",
       "      <td>English</td>\n",
       "      <td>5</td>\n",
       "      <td>3.94</td>\n",
       "      <td>298</td>\n",
       "      <td>1595</td>\n",
       "      <td>paperback</td>\n",
       "    </tr>\n",
       "    <tr>\n",
       "      <th>2012-09-17</th>\n",
       "      <td>Animal Farm</td>\n",
       "      <td>George Orwell</td>\n",
       "      <td>United Kingdom</td>\n",
       "      <td>English</td>\n",
       "      <td>5</td>\n",
       "      <td>3.90</td>\n",
       "      <td>122</td>\n",
       "      <td>1945</td>\n",
       "      <td>paperback</td>\n",
       "    </tr>\n",
       "    <tr>\n",
       "      <th>2012-12-28</th>\n",
       "      <td>Animal Farm</td>\n",
       "      <td>George Orwell</td>\n",
       "      <td>United Kingdom</td>\n",
       "      <td>English</td>\n",
       "      <td>5</td>\n",
       "      <td>3.90</td>\n",
       "      <td>122</td>\n",
       "      <td>1945</td>\n",
       "      <td>paperback</td>\n",
       "    </tr>\n",
       "    <tr>\n",
       "      <th>2013-07-28</th>\n",
       "      <td>Der Besuch der alten Dame</td>\n",
       "      <td>Friedrich Dürrenmatt</td>\n",
       "      <td>Switzerland</td>\n",
       "      <td>German</td>\n",
       "      <td>5</td>\n",
       "      <td>3.92</td>\n",
       "      <td>155</td>\n",
       "      <td>1956</td>\n",
       "      <td>audiobook</td>\n",
       "    </tr>\n",
       "    <tr>\n",
       "      <th>2014-02-18</th>\n",
       "      <td>A Midsummer Night's Dream</td>\n",
       "      <td>William Shakespeare</td>\n",
       "      <td>United Kingdom</td>\n",
       "      <td>English</td>\n",
       "      <td>5</td>\n",
       "      <td>3.94</td>\n",
       "      <td>298</td>\n",
       "      <td>1595</td>\n",
       "      <td>audiobook</td>\n",
       "    </tr>\n",
       "    <tr>\n",
       "      <th>2015-04-11</th>\n",
       "      <td>Der Besuch der alten Dame</td>\n",
       "      <td>Friedrich Dürrenmatt</td>\n",
       "      <td>Switzerland</td>\n",
       "      <td>German</td>\n",
       "      <td>5</td>\n",
       "      <td>3.92</td>\n",
       "      <td>155</td>\n",
       "      <td>1956</td>\n",
       "      <td>paperback</td>\n",
       "    </tr>\n",
       "    <tr>\n",
       "      <th>2018-11-09</th>\n",
       "      <td>Dracula</td>\n",
       "      <td>Bram Stoker</td>\n",
       "      <td>Ireland</td>\n",
       "      <td>German</td>\n",
       "      <td>4</td>\n",
       "      <td>3.98</td>\n",
       "      <td>488</td>\n",
       "      <td>1897</td>\n",
       "      <td>audiobook</td>\n",
       "    </tr>\n",
       "    <tr>\n",
       "      <th>2018-12-26</th>\n",
       "      <td>Faust: Der Tragödie erster Teil</td>\n",
       "      <td>Johann Wolfgang von Goethe</td>\n",
       "      <td>Germany</td>\n",
       "      <td>German</td>\n",
       "      <td>5</td>\n",
       "      <td>3.98</td>\n",
       "      <td>135</td>\n",
       "      <td>1986</td>\n",
       "      <td>audiobook</td>\n",
       "    </tr>\n",
       "  </tbody>\n",
       "</table>\n",
       "</div>"
      ],
      "text/plain": [
       "                                      Title                      Author  \\\n",
       "Date Added                                                                \n",
       "2012-09-17  Faust: Der Tragödie erster Teil  Johann Wolfgang von Goethe   \n",
       "2012-09-17                          Dracula                 Bram Stoker   \n",
       "2012-09-17        A Midsummer Night's Dream         William Shakespeare   \n",
       "2012-09-17                      Animal Farm               George Orwell   \n",
       "2012-12-28                      Animal Farm               George Orwell   \n",
       "2013-07-28        Der Besuch der alten Dame        Friedrich Dürrenmatt   \n",
       "2014-02-18        A Midsummer Night's Dream         William Shakespeare   \n",
       "2015-04-11        Der Besuch der alten Dame        Friedrich Dürrenmatt   \n",
       "2018-11-09                          Dracula                 Bram Stoker   \n",
       "2018-12-26  Faust: Der Tragödie erster Teil  Johann Wolfgang von Goethe   \n",
       "\n",
       "            Author Country Read Language  My Rating  Average Rating  \\\n",
       "Date Added                                                            \n",
       "2012-09-17         Germany        German          5            3.98   \n",
       "2012-09-17         Ireland      Romanian          3            3.98   \n",
       "2012-09-17  United Kingdom       English          5            3.94   \n",
       "2012-09-17  United Kingdom       English          5            3.90   \n",
       "2012-12-28  United Kingdom       English          5            3.90   \n",
       "2013-07-28     Switzerland        German          5            3.92   \n",
       "2014-02-18  United Kingdom       English          5            3.94   \n",
       "2015-04-11     Switzerland        German          5            3.92   \n",
       "2018-11-09         Ireland        German          4            3.98   \n",
       "2018-12-26         Germany        German          5            3.98   \n",
       "\n",
       "            Number of Pages  Original Publication Year     Format  \n",
       "Date Added                                                         \n",
       "2012-09-17              135                       1986  paperback  \n",
       "2012-09-17              488                       1897  paperback  \n",
       "2012-09-17              298                       1595  paperback  \n",
       "2012-09-17              122                       1945  paperback  \n",
       "2012-12-28              122                       1945  paperback  \n",
       "2013-07-28              155                       1956  audiobook  \n",
       "2014-02-18              298                       1595  audiobook  \n",
       "2015-04-11              155                       1956  paperback  \n",
       "2018-11-09              488                       1897  audiobook  \n",
       "2018-12-26              135                       1986  audiobook  "
      ]
     },
     "execution_count": 30,
     "metadata": {},
     "output_type": "execute_result"
    }
   ],
   "source": [
    "reread = gr[['Title', 'Author']].duplicated(keep=False)\n",
    "gr[reread]"
   ]
  },
  {
   "cell_type": "markdown",
   "metadata": {},
   "source": [
    "#### Predict how many books I will add in 2019:"
   ]
  },
  {
   "cell_type": "code",
   "execution_count": 31,
   "metadata": {},
   "outputs": [
    {
     "data": {
      "text/plain": [
       "38"
      ]
     },
     "execution_count": 31,
     "metadata": {},
     "output_type": "execute_result"
    }
   ],
   "source": [
    "gr18 = gr[gr.index.year==2018]\n",
    "len(gr18)"
   ]
  },
  {
   "cell_type": "code",
   "execution_count": 32,
   "metadata": {},
   "outputs": [
    {
     "data": {
      "text/plain": [
       "45"
      ]
     },
     "execution_count": 32,
     "metadata": {},
     "output_type": "execute_result"
    }
   ],
   "source": [
    "gr17 = gr[gr.index.year==2017]\n",
    "len(gr17)"
   ]
  },
  {
   "cell_type": "code",
   "execution_count": 33,
   "metadata": {},
   "outputs": [
    {
     "data": {
      "text/plain": [
       "38"
      ]
     },
     "execution_count": 33,
     "metadata": {},
     "output_type": "execute_result"
    }
   ],
   "source": [
    "gr16 = gr[gr.index.year==2016]\n",
    "len(gr16)"
   ]
  },
  {
   "cell_type": "code",
   "execution_count": 34,
   "metadata": {},
   "outputs": [
    {
     "data": {
      "text/plain": [
       "42"
      ]
     },
     "execution_count": 34,
     "metadata": {},
     "output_type": "execute_result"
    }
   ],
   "source": [
    "gr15 = gr[gr.index.year==2015]\n",
    "len(gr15)"
   ]
  },
  {
   "cell_type": "code",
   "execution_count": 35,
   "metadata": {},
   "outputs": [
    {
     "data": {
      "text/plain": [
       "53"
      ]
     },
     "execution_count": 35,
     "metadata": {},
     "output_type": "execute_result"
    }
   ],
   "source": [
    "gr14 = gr[gr.index.year==2014]\n",
    "len(gr14)"
   ]
  },
  {
   "cell_type": "code",
   "execution_count": 36,
   "metadata": {},
   "outputs": [
    {
     "data": {
      "text/plain": [
       "54"
      ]
     },
     "execution_count": 36,
     "metadata": {},
     "output_type": "execute_result"
    }
   ],
   "source": [
    "gr13 = gr[gr.index.year==2013]\n",
    "len(gr13)"
   ]
  },
  {
   "cell_type": "code",
   "execution_count": 37,
   "metadata": {},
   "outputs": [
    {
     "data": {
      "text/plain": [
       "132"
      ]
     },
     "execution_count": 37,
     "metadata": {},
     "output_type": "execute_result"
    }
   ],
   "source": [
    "gr12 = gr[gr.index.year==2012]\n",
    "len(gr12)"
   ]
  },
  {
   "cell_type": "code",
   "execution_count": 38,
   "metadata": {},
   "outputs": [
    {
     "data": {
      "text/html": [
       "<div>\n",
       "<style scoped>\n",
       "    .dataframe tbody tr th:only-of-type {\n",
       "        vertical-align: middle;\n",
       "    }\n",
       "\n",
       "    .dataframe tbody tr th {\n",
       "        vertical-align: top;\n",
       "    }\n",
       "\n",
       "    .dataframe thead th {\n",
       "        text-align: right;\n",
       "    }\n",
       "</style>\n",
       "<table border=\"1\" class=\"dataframe\">\n",
       "  <thead>\n",
       "    <tr style=\"text-align: right;\">\n",
       "      <th></th>\n",
       "      <th>Year</th>\n",
       "      <th>Books</th>\n",
       "    </tr>\n",
       "  </thead>\n",
       "  <tbody>\n",
       "    <tr>\n",
       "      <th>0</th>\n",
       "      <td>2012</td>\n",
       "      <td>132</td>\n",
       "    </tr>\n",
       "    <tr>\n",
       "      <th>1</th>\n",
       "      <td>2013</td>\n",
       "      <td>54</td>\n",
       "    </tr>\n",
       "    <tr>\n",
       "      <th>2</th>\n",
       "      <td>2014</td>\n",
       "      <td>53</td>\n",
       "    </tr>\n",
       "    <tr>\n",
       "      <th>3</th>\n",
       "      <td>2015</td>\n",
       "      <td>42</td>\n",
       "    </tr>\n",
       "    <tr>\n",
       "      <th>4</th>\n",
       "      <td>2016</td>\n",
       "      <td>38</td>\n",
       "    </tr>\n",
       "    <tr>\n",
       "      <th>5</th>\n",
       "      <td>2017</td>\n",
       "      <td>45</td>\n",
       "    </tr>\n",
       "    <tr>\n",
       "      <th>6</th>\n",
       "      <td>2018</td>\n",
       "      <td>38</td>\n",
       "    </tr>\n",
       "  </tbody>\n",
       "</table>\n",
       "</div>"
      ],
      "text/plain": [
       "   Year  Books\n",
       "0  2012    132\n",
       "1  2013     54\n",
       "2  2014     53\n",
       "3  2015     42\n",
       "4  2016     38\n",
       "5  2017     45\n",
       "6  2018     38"
      ]
     },
     "execution_count": 38,
     "metadata": {},
     "output_type": "execute_result"
    }
   ],
   "source": [
    "yearly_books = {'Year':[2012, 2013, 2014, 2015, 2016, 2017, 2018],'Books':[132, 54, 53, 42, 38, 45, 38]}\n",
    "gr_yearly = pd.DataFrame(yearly_books)\n",
    "gr_yearly"
   ]
  },
  {
   "cell_type": "code",
   "execution_count": null,
   "metadata": {},
   "outputs": [],
   "source": []
  }
 ],
 "metadata": {
  "kernelspec": {
   "display_name": "Python 3",
   "language": "python",
   "name": "python3"
  },
  "language_info": {
   "codemirror_mode": {
    "name": "ipython",
    "version": 3
   },
   "file_extension": ".py",
   "mimetype": "text/x-python",
   "name": "python",
   "nbconvert_exporter": "python",
   "pygments_lexer": "ipython3",
   "version": "3.6.5"
  }
 },
 "nbformat": 4,
 "nbformat_minor": 2
}
